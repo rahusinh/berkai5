{
 "cells": [
  {
   "cell_type": "markdown",
   "metadata": {},
   "source": [
    "### Will a Customer Accept the Coupon?\n",
    "\n",
    "**Context**\n",
    "\n",
    "Imagine driving through town and a coupon is delivered to your cell phone for a restaraunt near where you are driving. Would you accept that coupon and take a short detour to the restaraunt? Would you accept the coupon but use it on a sunbsequent trip? Would you ignore the coupon entirely? What if the coupon was for a bar instead of a restaraunt? What about a coffee house? Would you accept a bar coupon with a minor passenger in the car? What about if it was just you and your partner in the car? Would weather impact the rate of acceptance? What about the time of day?\n",
    "\n",
    "Obviously, proximity to the business is a factor on whether the coupon is delivered to the driver or not, but what are the factors that determine whether a driver accepts the coupon once it is delivered to them? How would you determine whether a driver is likely to accept a coupon?\n",
    "\n",
    "**Overview**\n",
    "\n",
    "The goal of this project is to use what you know about visualizations and probability distributions to distinguish between customers who accepted a driving coupon versus those that did not.\n",
    "\n",
    "**Data**\n",
    "\n",
    "This data comes to us from the UCI Machine Learning repository and was collected via a survey on Amazon Mechanical Turk. The survey describes different driving scenarios including the destination, current time, weather, passenger, etc., and then ask the person whether he will accept the coupon if he is the driver. Answers that the user will drive there ‘right away’ or ‘later before the coupon expires’ are labeled as ‘Y = 1’ and answers ‘no, I do not want the coupon’ are labeled as ‘Y = 0’.  There are five different types of coupons -- less expensive restaurants (under \\\\$20), coffee houses, carry out & take away, bar, and more expensive restaurants (\\\\$20 - \\\\$50). "
   ]
  },
  {
   "cell_type": "markdown",
   "metadata": {},
   "source": [
    "**Deliverables**\n",
    "\n",
    "Your final product should be a brief report that highlights the differences between customers who did and did not accept the coupons.  To explore the data you will utilize your knowledge of plotting, statistical summaries, and visualization using Python. You will publish your findings in a public facing github repository as your first portfolio piece. \n",
    "\n",
    "\n",
    "\n"
   ]
  },
  {
   "cell_type": "markdown",
   "metadata": {},
   "source": [
    "### Data Description\n",
    "Keep in mind that these values mentioned below are average values.\n",
    "\n",
    "The attributes of this data set include:\n",
    "1. User attributes\n",
    "    -  Gender: male, female\n",
    "    -  Age: below 21, 21 to 25, 26 to 30, etc.\n",
    "    -  Marital Status: single, married partner, unmarried partner, or widowed\n",
    "    -  Number of children: 0, 1, or more than 1\n",
    "    -  Education: high school, bachelors degree, associates degree, or graduate degree\n",
    "    -  Occupation: architecture & engineering, business & financial, etc.\n",
    "    -  Annual income: less than \\\\$12500, \\\\$12500 - \\\\$24999, \\\\$25000 - \\\\$37499, etc.\n",
    "    -  Number of times that he/she goes to a bar: 0, less than 1, 1 to 3, 4 to 8 or greater than 8\n",
    "    -  Number of times that he/she buys takeaway food: 0, less than 1, 1 to 3, 4 to 8 or greater\n",
    "    than 8\n",
    "    -  Number of times that he/she goes to a coffee house: 0, less than 1, 1 to 3, 4 to 8 or\n",
    "    greater than 8\n",
    "    -  Number of times that he/she eats at a restaurant with average expense less than \\\\$20 per\n",
    "    person: 0, less than 1, 1 to 3, 4 to 8 or greater than 8\n",
    "    -  Number of times that he/she goes to a bar: 0, less than 1, 1 to 3, 4 to 8 or greater than 8\n",
    "    \n",
    "\n",
    "2. Contextual attributes\n",
    "    - Driving destination: home, work, or no urgent destination\n",
    "    - Location of user, coupon and destination: we provide a map to show the geographical\n",
    "    location of the user, destination, and the venue, and we mark the distance between each\n",
    "    two places with time of driving. The user can see whether the venue is in the same\n",
    "    direction as the destination.\n",
    "    - Weather: sunny, rainy, or snowy\n",
    "    - Temperature: 30F, 55F, or 80F\n",
    "    - Time: 10AM, 2PM, or 6PM\n",
    "    - Passenger: alone, partner, kid(s), or friend(s)\n",
    "\n",
    "\n",
    "3. Coupon attributes\n",
    "    - time before it expires: 2 hours or one day"
   ]
  },
  {
   "cell_type": "code",
   "execution_count": 2,
   "metadata": {},
   "outputs": [],
   "source": [
    "import matplotlib.pyplot as plt\n",
    "import seaborn as sns\n",
    "import pandas as pd\n",
    "import numpy as np"
   ]
  },
  {
   "cell_type": "markdown",
   "metadata": {},
   "source": [
    "### Problems\n",
    "\n",
    "Use the prompts below to get started with your data analysis.  \n",
    "\n",
    "1. Read in the `coupons.csv` file.\n",
    "\n",
    "\n"
   ]
  },
  {
   "cell_type": "code",
   "execution_count": 26,
   "metadata": {},
   "outputs": [],
   "source": [
    "data = pd.read_csv('data/coupons.csv')"
   ]
  },
  {
   "cell_type": "code",
   "execution_count": 27,
   "metadata": {},
   "outputs": [
    {
     "data": {
      "text/html": [
       "<div>\n",
       "<style scoped>\n",
       "    .dataframe tbody tr th:only-of-type {\n",
       "        vertical-align: middle;\n",
       "    }\n",
       "\n",
       "    .dataframe tbody tr th {\n",
       "        vertical-align: top;\n",
       "    }\n",
       "\n",
       "    .dataframe thead th {\n",
       "        text-align: right;\n",
       "    }\n",
       "</style>\n",
       "<table border=\"1\" class=\"dataframe\">\n",
       "  <thead>\n",
       "    <tr style=\"text-align: right;\">\n",
       "      <th></th>\n",
       "      <th>destination</th>\n",
       "      <th>passanger</th>\n",
       "      <th>weather</th>\n",
       "      <th>temperature</th>\n",
       "      <th>time</th>\n",
       "      <th>coupon</th>\n",
       "      <th>expiration</th>\n",
       "      <th>gender</th>\n",
       "      <th>age</th>\n",
       "      <th>maritalStatus</th>\n",
       "      <th>...</th>\n",
       "      <th>CoffeeHouse</th>\n",
       "      <th>CarryAway</th>\n",
       "      <th>RestaurantLessThan20</th>\n",
       "      <th>Restaurant20To50</th>\n",
       "      <th>toCoupon_GEQ5min</th>\n",
       "      <th>toCoupon_GEQ15min</th>\n",
       "      <th>toCoupon_GEQ25min</th>\n",
       "      <th>direction_same</th>\n",
       "      <th>direction_opp</th>\n",
       "      <th>Y</th>\n",
       "    </tr>\n",
       "  </thead>\n",
       "  <tbody>\n",
       "    <tr>\n",
       "      <th>0</th>\n",
       "      <td>No Urgent Place</td>\n",
       "      <td>Alone</td>\n",
       "      <td>Sunny</td>\n",
       "      <td>55</td>\n",
       "      <td>2PM</td>\n",
       "      <td>Restaurant(&lt;20)</td>\n",
       "      <td>1d</td>\n",
       "      <td>Female</td>\n",
       "      <td>21</td>\n",
       "      <td>Unmarried partner</td>\n",
       "      <td>...</td>\n",
       "      <td>never</td>\n",
       "      <td>NaN</td>\n",
       "      <td>4~8</td>\n",
       "      <td>1~3</td>\n",
       "      <td>1</td>\n",
       "      <td>0</td>\n",
       "      <td>0</td>\n",
       "      <td>0</td>\n",
       "      <td>1</td>\n",
       "      <td>1</td>\n",
       "    </tr>\n",
       "    <tr>\n",
       "      <th>1</th>\n",
       "      <td>No Urgent Place</td>\n",
       "      <td>Friend(s)</td>\n",
       "      <td>Sunny</td>\n",
       "      <td>80</td>\n",
       "      <td>10AM</td>\n",
       "      <td>Coffee House</td>\n",
       "      <td>2h</td>\n",
       "      <td>Female</td>\n",
       "      <td>21</td>\n",
       "      <td>Unmarried partner</td>\n",
       "      <td>...</td>\n",
       "      <td>never</td>\n",
       "      <td>NaN</td>\n",
       "      <td>4~8</td>\n",
       "      <td>1~3</td>\n",
       "      <td>1</td>\n",
       "      <td>0</td>\n",
       "      <td>0</td>\n",
       "      <td>0</td>\n",
       "      <td>1</td>\n",
       "      <td>0</td>\n",
       "    </tr>\n",
       "    <tr>\n",
       "      <th>2</th>\n",
       "      <td>No Urgent Place</td>\n",
       "      <td>Friend(s)</td>\n",
       "      <td>Sunny</td>\n",
       "      <td>80</td>\n",
       "      <td>10AM</td>\n",
       "      <td>Carry out &amp; Take away</td>\n",
       "      <td>2h</td>\n",
       "      <td>Female</td>\n",
       "      <td>21</td>\n",
       "      <td>Unmarried partner</td>\n",
       "      <td>...</td>\n",
       "      <td>never</td>\n",
       "      <td>NaN</td>\n",
       "      <td>4~8</td>\n",
       "      <td>1~3</td>\n",
       "      <td>1</td>\n",
       "      <td>1</td>\n",
       "      <td>0</td>\n",
       "      <td>0</td>\n",
       "      <td>1</td>\n",
       "      <td>1</td>\n",
       "    </tr>\n",
       "    <tr>\n",
       "      <th>3</th>\n",
       "      <td>No Urgent Place</td>\n",
       "      <td>Friend(s)</td>\n",
       "      <td>Sunny</td>\n",
       "      <td>80</td>\n",
       "      <td>2PM</td>\n",
       "      <td>Coffee House</td>\n",
       "      <td>2h</td>\n",
       "      <td>Female</td>\n",
       "      <td>21</td>\n",
       "      <td>Unmarried partner</td>\n",
       "      <td>...</td>\n",
       "      <td>never</td>\n",
       "      <td>NaN</td>\n",
       "      <td>4~8</td>\n",
       "      <td>1~3</td>\n",
       "      <td>1</td>\n",
       "      <td>1</td>\n",
       "      <td>0</td>\n",
       "      <td>0</td>\n",
       "      <td>1</td>\n",
       "      <td>0</td>\n",
       "    </tr>\n",
       "    <tr>\n",
       "      <th>4</th>\n",
       "      <td>No Urgent Place</td>\n",
       "      <td>Friend(s)</td>\n",
       "      <td>Sunny</td>\n",
       "      <td>80</td>\n",
       "      <td>2PM</td>\n",
       "      <td>Coffee House</td>\n",
       "      <td>1d</td>\n",
       "      <td>Female</td>\n",
       "      <td>21</td>\n",
       "      <td>Unmarried partner</td>\n",
       "      <td>...</td>\n",
       "      <td>never</td>\n",
       "      <td>NaN</td>\n",
       "      <td>4~8</td>\n",
       "      <td>1~3</td>\n",
       "      <td>1</td>\n",
       "      <td>1</td>\n",
       "      <td>0</td>\n",
       "      <td>0</td>\n",
       "      <td>1</td>\n",
       "      <td>0</td>\n",
       "    </tr>\n",
       "  </tbody>\n",
       "</table>\n",
       "<p>5 rows × 26 columns</p>\n",
       "</div>"
      ],
      "text/plain": [
       "       destination  passanger weather  temperature  time  \\\n",
       "0  No Urgent Place      Alone   Sunny           55   2PM   \n",
       "1  No Urgent Place  Friend(s)   Sunny           80  10AM   \n",
       "2  No Urgent Place  Friend(s)   Sunny           80  10AM   \n",
       "3  No Urgent Place  Friend(s)   Sunny           80   2PM   \n",
       "4  No Urgent Place  Friend(s)   Sunny           80   2PM   \n",
       "\n",
       "                  coupon expiration  gender age      maritalStatus  ...  \\\n",
       "0        Restaurant(<20)         1d  Female  21  Unmarried partner  ...   \n",
       "1           Coffee House         2h  Female  21  Unmarried partner  ...   \n",
       "2  Carry out & Take away         2h  Female  21  Unmarried partner  ...   \n",
       "3           Coffee House         2h  Female  21  Unmarried partner  ...   \n",
       "4           Coffee House         1d  Female  21  Unmarried partner  ...   \n",
       "\n",
       "   CoffeeHouse CarryAway RestaurantLessThan20 Restaurant20To50  \\\n",
       "0        never       NaN                  4~8              1~3   \n",
       "1        never       NaN                  4~8              1~3   \n",
       "2        never       NaN                  4~8              1~3   \n",
       "3        never       NaN                  4~8              1~3   \n",
       "4        never       NaN                  4~8              1~3   \n",
       "\n",
       "  toCoupon_GEQ5min toCoupon_GEQ15min toCoupon_GEQ25min direction_same  \\\n",
       "0                1                 0                 0              0   \n",
       "1                1                 0                 0              0   \n",
       "2                1                 1                 0              0   \n",
       "3                1                 1                 0              0   \n",
       "4                1                 1                 0              0   \n",
       "\n",
       "  direction_opp  Y  \n",
       "0             1  1  \n",
       "1             1  0  \n",
       "2             1  1  \n",
       "3             1  0  \n",
       "4             1  0  \n",
       "\n",
       "[5 rows x 26 columns]"
      ]
     },
     "execution_count": 27,
     "metadata": {},
     "output_type": "execute_result"
    }
   ],
   "source": [
    "data.head()"
   ]
  },
  {
   "cell_type": "markdown",
   "metadata": {},
   "source": [
    "2. Investigate the dataset for missing or problematic data."
   ]
  },
  {
   "cell_type": "code",
   "execution_count": 28,
   "metadata": {},
   "outputs": [
    {
     "data": {
      "text/plain": [
       "destination                 0\n",
       "passanger                   0\n",
       "weather                     0\n",
       "temperature                 0\n",
       "time                        0\n",
       "coupon                      0\n",
       "expiration                  0\n",
       "gender                      0\n",
       "age                         0\n",
       "maritalStatus               0\n",
       "has_children                0\n",
       "education                   0\n",
       "occupation                  0\n",
       "income                      0\n",
       "car                     12576\n",
       "Bar                       107\n",
       "CoffeeHouse               217\n",
       "CarryAway                 151\n",
       "RestaurantLessThan20      130\n",
       "Restaurant20To50          189\n",
       "toCoupon_GEQ5min            0\n",
       "toCoupon_GEQ15min           0\n",
       "toCoupon_GEQ25min           0\n",
       "direction_same              0\n",
       "direction_opp               0\n",
       "Y                           0\n",
       "dtype: int64"
      ]
     },
     "execution_count": 28,
     "metadata": {},
     "output_type": "execute_result"
    }
   ],
   "source": [
    "data.isnull().sum()"
   ]
  },
  {
   "cell_type": "code",
   "execution_count": 29,
   "metadata": {},
   "outputs": [
    {
     "data": {
      "text/plain": [
       "destination             object\n",
       "passanger               object\n",
       "weather                 object\n",
       "temperature              int64\n",
       "time                    object\n",
       "coupon                  object\n",
       "expiration              object\n",
       "gender                  object\n",
       "age                     object\n",
       "maritalStatus           object\n",
       "has_children             int64\n",
       "education               object\n",
       "occupation              object\n",
       "income                  object\n",
       "car                     object\n",
       "Bar                     object\n",
       "CoffeeHouse             object\n",
       "CarryAway               object\n",
       "RestaurantLessThan20    object\n",
       "Restaurant20To50        object\n",
       "toCoupon_GEQ5min         int64\n",
       "toCoupon_GEQ15min        int64\n",
       "toCoupon_GEQ25min        int64\n",
       "direction_same           int64\n",
       "direction_opp            int64\n",
       "Y                        int64\n",
       "dtype: object"
      ]
     },
     "execution_count": 29,
     "metadata": {},
     "output_type": "execute_result"
    }
   ],
   "source": [
    "data.dtypes"
   ]
  },
  {
   "cell_type": "code",
   "execution_count": 30,
   "metadata": {},
   "outputs": [
    {
     "name": "stdout",
     "output_type": "stream",
     "text": [
      "destination ['No Urgent Place' 'Home' 'Work']\n",
      "passanger ['Alone' 'Friend(s)' 'Kid(s)' 'Partner']\n",
      "weather ['Sunny' 'Rainy' 'Snowy']\n",
      "temperature [55 80 30]\n",
      "time ['2PM' '10AM' '6PM' '7AM' '10PM']\n",
      "coupon ['Restaurant(<20)' 'Coffee House' 'Carry out & Take away' 'Bar'\n",
      " 'Restaurant(20-50)']\n",
      "expiration ['1d' '2h']\n",
      "gender ['Female' 'Male']\n",
      "age ['21' '46' '26' '31' '41' '50plus' '36' 'below21']\n",
      "maritalStatus ['Unmarried partner' 'Single' 'Married partner' 'Divorced' 'Widowed']\n",
      "has_children [1 0]\n",
      "education ['Some college - no degree' 'Bachelors degree' 'Associates degree'\n",
      " 'High School Graduate' 'Graduate degree (Masters or Doctorate)'\n",
      " 'Some High School']\n",
      "occupation ['Unemployed' 'Architecture & Engineering' 'Student'\n",
      " 'Education&Training&Library' 'Healthcare Support'\n",
      " 'Healthcare Practitioners & Technical' 'Sales & Related' 'Management'\n",
      " 'Arts Design Entertainment Sports & Media' 'Computer & Mathematical'\n",
      " 'Life Physical Social Science' 'Personal Care & Service'\n",
      " 'Community & Social Services' 'Office & Administrative Support'\n",
      " 'Construction & Extraction' 'Legal' 'Retired'\n",
      " 'Installation Maintenance & Repair' 'Transportation & Material Moving'\n",
      " 'Business & Financial' 'Protective Service'\n",
      " 'Food Preparation & Serving Related' 'Production Occupations'\n",
      " 'Building & Grounds Cleaning & Maintenance' 'Farming Fishing & Forestry']\n",
      "income ['$37500 - $49999' '$62500 - $74999' '$12500 - $24999' '$75000 - $87499'\n",
      " '$50000 - $62499' '$25000 - $37499' '$100000 or More' '$87500 - $99999'\n",
      " 'Less than $12500']\n",
      "car [nan 'Scooter and motorcycle' 'crossover' 'Mazda5' 'do not drive'\n",
      " 'Car that is too old to install Onstar :D']\n",
      "Bar ['never' 'less1' '1~3' 'gt8' nan '4~8']\n",
      "CoffeeHouse ['never' 'less1' '4~8' '1~3' 'gt8' nan]\n",
      "CarryAway [nan '4~8' '1~3' 'gt8' 'less1' 'never']\n",
      "RestaurantLessThan20 ['4~8' '1~3' 'less1' 'gt8' nan 'never']\n",
      "Restaurant20To50 ['1~3' 'less1' 'never' 'gt8' '4~8' nan]\n",
      "toCoupon_GEQ5min [1]\n",
      "toCoupon_GEQ15min [0 1]\n",
      "toCoupon_GEQ25min [0 1]\n",
      "direction_same [0 1]\n",
      "direction_opp [1 0]\n",
      "Y [1 0]\n"
     ]
    }
   ],
   "source": [
    "for col in data:\n",
    "    print(col, data[col].unique())"
   ]
  },
  {
   "cell_type": "code",
   "execution_count": 31,
   "metadata": {},
   "outputs": [
    {
     "data": {
      "text/plain": [
       "Index(['destination', 'passanger', 'weather', 'temperature', 'time', 'coupon',\n",
       "       'expiration', 'gender', 'age', 'maritalStatus', 'has_children',\n",
       "       'education', 'occupation', 'income', 'car', 'Bar', 'CoffeeHouse',\n",
       "       'CarryAway', 'RestaurantLessThan20', 'Restaurant20To50',\n",
       "       'toCoupon_GEQ5min', 'toCoupon_GEQ15min', 'toCoupon_GEQ25min',\n",
       "       'direction_same', 'direction_opp', 'Y'],\n",
       "      dtype='object')"
      ]
     },
     "execution_count": 31,
     "metadata": {},
     "output_type": "execute_result"
    }
   ],
   "source": [
    "data.columns"
   ]
  },
  {
   "cell_type": "markdown",
   "metadata": {},
   "source": [
    "3. Decide what to do about your missing data -- drop, replace, other..."
   ]
  },
  {
   "cell_type": "code",
   "execution_count": 32,
   "metadata": {},
   "outputs": [],
   "source": [
    "\"\"\"\n",
    "After investigation, it seems like 'car' has a ton of missing values and the unique values for car don't really seem \n",
    "significant considering all the missing values as well. We will move on to completely drop this column.\n",
    "\n",
    "Bar, CoffeeHouse, CarryAway, RestaurantLessThan20, and Restaurant20To50 have a few missing data as well. Here we will convert\n",
    "them to 'never'.\n",
    "\"\"\"\n",
    "data = data.drop('car', axis=1)"
   ]
  },
  {
   "cell_type": "code",
   "execution_count": 38,
   "metadata": {},
   "outputs": [],
   "source": [
    "data['Bar'] = data['Bar'].replace(np.nan, 'never')\n",
    "data['CoffeeHouse'] = data['CoffeeHouse'].replace(np.nan, 'never')\n",
    "data['CarryAway'] = data['CarryAway'].replace(np.nan, 'never')\n",
    "data['RestaurantLessThan20'] = data['RestaurantLessThan20'].replace(np.nan, 'never')\n",
    "data['Restaurant20To50'] = data['Restaurant20To50'].replace(np.nan, 'never')"
   ]
  },
  {
   "cell_type": "code",
   "execution_count": 39,
   "metadata": {},
   "outputs": [
    {
     "data": {
      "text/plain": [
       "destination             0\n",
       "passanger               0\n",
       "weather                 0\n",
       "temperature             0\n",
       "time                    0\n",
       "coupon                  0\n",
       "expiration              0\n",
       "gender                  0\n",
       "age                     0\n",
       "maritalStatus           0\n",
       "has_children            0\n",
       "education               0\n",
       "occupation              0\n",
       "income                  0\n",
       "Bar                     0\n",
       "CoffeeHouse             0\n",
       "CarryAway               0\n",
       "RestaurantLessThan20    0\n",
       "Restaurant20To50        0\n",
       "toCoupon_GEQ5min        0\n",
       "toCoupon_GEQ15min       0\n",
       "toCoupon_GEQ25min       0\n",
       "direction_same          0\n",
       "direction_opp           0\n",
       "Y                       0\n",
       "dtype: int64"
      ]
     },
     "execution_count": 39,
     "metadata": {},
     "output_type": "execute_result"
    }
   ],
   "source": [
    "data.isnull().sum()"
   ]
  },
  {
   "cell_type": "markdown",
   "metadata": {},
   "source": [
    "4. What proportion of the total observations chose to accept the coupon? \n",
    "\n"
   ]
  },
  {
   "cell_type": "code",
   "execution_count": 53,
   "metadata": {},
   "outputs": [
    {
     "data": {
      "text/plain": [
       "1    0.568433\n",
       "0    0.431567\n",
       "Name: Y, dtype: float64"
      ]
     },
     "execution_count": 53,
     "metadata": {},
     "output_type": "execute_result"
    }
   ],
   "source": [
    "data['Y'].value_counts(normalize=True)\n",
    "\"\"\"\n",
    "56% of total observations chose to accept the coupon.\n",
    "\"\"\""
   ]
  },
  {
   "cell_type": "markdown",
   "metadata": {},
   "source": [
    "5. Use a bar plot to visualize the `coupon` column."
   ]
  },
  {
   "cell_type": "code",
   "execution_count": 55,
   "metadata": {},
   "outputs": [
    {
     "data": {
      "image/png": "[encoded data removed]",
      "text/plain": [
       "<Figure size 432x288 with 1 Axes>"
      ]
     },
     "metadata": {
      "needs_background": "light"
     },
     "output_type": "display_data"
    }
   ],
   "source": [
    "sns.histplot(data, x='coupon', legend=True)\n",
    "plt.xticks(rotation=45)\n",
    "plt.show()"
   ]
  },
  {
   "cell_type": "code",
   "execution_count": 56,
   "metadata": {},
   "outputs": [
    {
     "data": {
      "text/plain": [
       "(array([0, 1, 2, 3, 4]),\n",
       " [Text(0, 0, 'Restaurant(<20)'),\n",
       "  Text(1, 0, 'Coffee House'),\n",
       "  Text(2, 0, 'Carry out & Take away'),\n",
       "  Text(3, 0, 'Bar'),\n",
       "  Text(4, 0, 'Restaurant(20-50)')])"
      ]
     },
     "execution_count": 56,
     "metadata": {},
     "output_type": "execute_result"
    },
    {
     "data": {
      "image/png": "[encoded data removed]",
      "text/plain": [
       "<Figure size 432x288 with 1 Axes>"
      ]
     },
     "metadata": {
      "needs_background": "light"
     },
     "output_type": "display_data"
    }
   ],
   "source": [
    "sns.countplot(data=data, x='coupon', hue='Y')\n",
    "plt.title('Coupon acceptance based on type of coupon')\n",
    "plt.xticks(rotation=45, horizontalalignment='right')"
   ]
  },
  {
   "cell_type": "markdown",
   "metadata": {},
   "source": [
    "6. Use a histogram to visualize the temperature column."
   ]
  },
  {
   "cell_type": "code",
   "execution_count": 58,
   "metadata": {},
   "outputs": [
    {
     "data": {
      "image/png": "[encoded data removed]",
      "text/plain": [
       "<Figure size 432x288 with 1 Axes>"
      ]
     },
     "metadata": {
      "needs_background": "light"
     },
     "output_type": "display_data"
    }
   ],
   "source": [
    "sns.histplot(data, x='temperature', kde=True, legend=True)\n",
    "plt.xticks(rotation=45)\n",
    "plt.title('Distribution of temperature')\n",
    "plt.xlabel('Temperature')\n",
    "plt.ylabel('Count')\n",
    "plt.show()"
   ]
  },
  {
   "cell_type": "markdown",
   "metadata": {},
   "source": [
    "**Investigating the Bar Coupons**\n",
    "\n",
    "Now, we will lead you through an exploration of just the bar related coupons.  \n",
    "\n",
    "1. Create a new `DataFrame` that contains just the bar coupons.\n"
   ]
  },
  {
   "cell_type": "code",
   "execution_count": 59,
   "metadata": {},
   "outputs": [],
   "source": [
    "bar_df = data[data['coupon'] == 'Bar']"
   ]
  },
  {
   "cell_type": "markdown",
   "metadata": {},
   "source": [
    "2. What proportion of bar coupons were accepted?\n"
   ]
  },
  {
   "cell_type": "code",
   "execution_count": 60,
   "metadata": {},
   "outputs": [
    {
     "data": {
      "text/plain": [
       "0    0.589985\n",
       "1    0.410015\n",
       "Name: Y, dtype: float64"
      ]
     },
     "execution_count": 60,
     "metadata": {},
     "output_type": "execute_result"
    }
   ],
   "source": [
    "bar_df['Y'].value_counts(normalize=True)\n",
    "\"\"\"\n",
    "41% of Bar coupons were accepted\n",
    "\"\"\""
   ]
  },
  {
   "cell_type": "markdown",
   "metadata": {},
   "source": [
    "3. Compare the acceptance rate between those who went to a bar 3 or fewer times a month to those who went more.\n"
   ]
  },
  {
   "cell_type": "code",
   "execution_count": 61,
   "metadata": {},
   "outputs": [
    {
     "data": {
      "text/plain": [
       "never    851\n",
       "less1    570\n",
       "1~3      397\n",
       "4~8      150\n",
       "gt8       49\n",
       "Name: Bar, dtype: int64"
      ]
     },
     "execution_count": 61,
     "metadata": {},
     "output_type": "execute_result"
    }
   ],
   "source": [
    "bar_df['Bar'].value_counts()"
   ]
  },
  {
   "cell_type": "code",
   "execution_count": 63,
   "metadata": {},
   "outputs": [
    {
     "data": {
      "text/plain": [
       "<AxesSubplot:xlabel='Bar', ylabel='count'>"
      ]
     },
     "execution_count": 63,
     "metadata": {},
     "output_type": "execute_result"
    },
    {
     "data": {
      "image/png": "[encoded data removed]",
      "text/plain": [
       "<Figure size 432x288 with 1 Axes>"
      ]
     },
     "metadata": {
      "needs_background": "light"
     },
     "output_type": "display_data"
    }
   ],
   "source": [
    "sns.countplot(data=bar_df, x='Bar', hue='Y')"
   ]
  },
  {
   "cell_type": "code",
   "execution_count": 67,
   "metadata": {},
   "outputs": [
    {
     "name": "stdout",
     "output_type": "stream",
     "text": [
      "1    1818\n",
      "2     199\n",
      "Name: categorized_bar, dtype: int64\n"
     ]
    },
    {
     "name": "stderr",
     "output_type": "stream",
     "text": [
      "/tmp/ipykernel_947119/3947764696.py:1: SettingWithCopyWarning: \n",
      "A value is trying to be set on a copy of a slice from a DataFrame.\n",
      "Try using .loc[row_indexer,col_indexer] = value instead\n",
      "\n",
      "See the caveats in the documentation: https://pandas.pydata.org/pandas-docs/stable/user_guide/indexing.html#returning-a-view-versus-a-copy\n",
      "  bar_df['categorized_bar'] = np.where(bar_df['Bar'].isin(['never', 'less1', '1~3']), 1, 0)\n",
      "/tmp/ipykernel_947119/3947764696.py:2: SettingWithCopyWarning: \n",
      "A value is trying to be set on a copy of a slice from a DataFrame.\n",
      "Try using .loc[row_indexer,col_indexer] = value instead\n",
      "\n",
      "See the caveats in the documentation: https://pandas.pydata.org/pandas-docs/stable/user_guide/indexing.html#returning-a-view-versus-a-copy\n",
      "  bar_df['categorized_bar'] = np.where(bar_df['Bar'].isin(['gt8', '4~8']), 2, bar_df['categorized_bar'])\n"
     ]
    }
   ],
   "source": [
    "bar_df['categorized_bar'] = np.where(bar_df['Bar'].isin(['never', 'less1', '1~3']), 1, 0)\n",
    "bar_df['categorized_bar'] = np.where(bar_df['Bar'].isin(['gt8', '4~8']), 2, bar_df['categorized_bar'])\n",
    "print(bar_df['categorized_bar'].value_counts())"
   ]
  },
  {
   "cell_type": "code",
   "execution_count": 70,
   "metadata": {},
   "outputs": [
    {
     "data": {
      "image/png": "[encoded data removed]",
      "text/plain": [
       "<Figure size 432x288 with 1 Axes>"
      ]
     },
     "metadata": {
      "needs_background": "light"
     },
     "output_type": "display_data"
    }
   ],
   "source": [
    "sns.countplot(data=bar_df, x='categorized_bar', hue='Y')\n",
    "plt.title('Bar category acceptance based on type of coupon')\n",
    "plt.xticks([0, 1], ['Visited 3 or lesser times', 'Visited 4 or more times'])\n",
    "plt.legend(['Reject', 'Accept'])\n",
    "plt.show()"
   ]
  },
  {
   "cell_type": "code",
   "execution_count": null,
   "metadata": {},
   "outputs": [],
   "source": [
    "\"\"\"\n",
    "Above, we split the bar data into two categories: \n",
    "    0 - rows with 'never', 'less1', and '1-3'\n",
    "    1 - rows with 'gt8' and '4-8'\n",
    "We can conclude the more bar visits, the higher acceptance rate.\n",
    "\"\"\""
   ]
  },
  {
   "cell_type": "code",
   "execution_count": 73,
   "metadata": {},
   "outputs": [
    {
     "name": "stdout",
     "output_type": "stream",
     "text": [
      " 3 or less visits :\n",
      "0    0.629263\n",
      "1    0.370737\n",
      "Name: Y, dtype: float64\n",
      "4 or more visits :\n",
      "1    0.768844\n",
      "0    0.231156\n",
      "Name: Y, dtype: float64\n"
     ]
    }
   ],
   "source": [
    "\"\"\"\n",
    "Taking this a step further, we can look at the actual percentages\n",
    "\"\"\"\n",
    "print(\" 3 or less visits :\")\n",
    "print(bar_df[bar_df['categorized_bar'] == 1]['Y'].value_counts(normalize=True))\n",
    "print(\"4 or more visits :\")\n",
    "print(bar_df[bar_df['categorized_bar'] == 2]['Y'].value_counts(normalize=True))"
   ]
  },
  {
   "cell_type": "code",
   "execution_count": null,
   "metadata": {},
   "outputs": [],
   "source": [
    "\"\"\"\n",
    "By looking at the stats above, we can see:\n",
    "1. When bar visits are 3 or less, there is a 63% chance of rejection.\n",
    "2. When the bar visits are 4 or more, there is only a 23% chance of rejection.\n",
    "\"\"\""
   ]
  },
  {
   "cell_type": "markdown",
   "metadata": {},
   "source": [
    "4. Compare the acceptance rate between drivers who go to a bar more than once a month and are over the age of 25 to the all others.  Is there a difference?\n"
   ]
  },
  {
   "cell_type": "code",
   "execution_count": 74,
   "metadata": {},
   "outputs": [
    {
     "name": "stderr",
     "output_type": "stream",
     "text": [
      "/tmp/ipykernel_947119/2211749247.py:4: SettingWithCopyWarning: \n",
      "A value is trying to be set on a copy of a slice from a DataFrame.\n",
      "Try using .loc[row_indexer,col_indexer] = value instead\n",
      "\n",
      "See the caveats in the documentation: https://pandas.pydata.org/pandas-docs/stable/user_guide/indexing.html#returning-a-view-versus-a-copy\n",
      "  bar_df['age_int'] = bar_df['age']\n",
      "/tmp/ipykernel_947119/2211749247.py:5: SettingWithCopyWarning: \n",
      "A value is trying to be set on a copy of a slice from a DataFrame.\n",
      "Try using .loc[row_indexer,col_indexer] = value instead\n",
      "\n",
      "See the caveats in the documentation: https://pandas.pydata.org/pandas-docs/stable/user_guide/indexing.html#returning-a-view-versus-a-copy\n",
      "  bar_df['age_int'] = bar_df['age_int'].str.replace('plus', '')\n",
      "/tmp/ipykernel_947119/2211749247.py:6: SettingWithCopyWarning: \n",
      "A value is trying to be set on a copy of a slice from a DataFrame.\n",
      "Try using .loc[row_indexer,col_indexer] = value instead\n",
      "\n",
      "See the caveats in the documentation: https://pandas.pydata.org/pandas-docs/stable/user_guide/indexing.html#returning-a-view-versus-a-copy\n",
      "  bar_df['age_int'] = bar_df['age_int'].str.replace('below21', '20')\n",
      "/tmp/ipykernel_947119/2211749247.py:7: SettingWithCopyWarning: \n",
      "A value is trying to be set on a copy of a slice from a DataFrame.\n",
      "Try using .loc[row_indexer,col_indexer] = value instead\n",
      "\n",
      "See the caveats in the documentation: https://pandas.pydata.org/pandas-docs/stable/user_guide/indexing.html#returning-a-view-versus-a-copy\n",
      "  bar_df['age_int'] = bar_df['age_int'].astype(int)\n"
     ]
    }
   ],
   "source": [
    "\"\"\"\n",
    "In order to perform operations on the age column, we will convert the whole column to 'int'.\n",
    "\"\"\"\n",
    "bar_df['age_int'] = bar_df['age']\n",
    "bar_df['age_int'] = bar_df['age_int'].str.replace('plus', '')\n",
    "bar_df['age_int'] = bar_df['age_int'].str.replace('below21', '20')\n",
    "bar_df['age_int'] = bar_df['age_int'].astype(int)"
   ]
  },
  {
   "cell_type": "code",
   "execution_count": 75,
   "metadata": {},
   "outputs": [
    {
     "name": "stdout",
     "output_type": "stream",
     "text": [
      "(Bar visited 1 or more) and (age > 25):\n",
      "1    0.695238\n",
      "0    0.304762\n",
      "Name: Y, dtype: float64\n",
      "(Bar visited less than 1) and (age < 25):\n",
      "0    0.606707\n",
      "1    0.393293\n",
      "Name: Y, dtype: float64\n"
     ]
    }
   ],
   "source": [
    "print(\"(Bar visited 1 or more) and (age > 25):\")\n",
    "print(bar_df[((bar_df['Bar'] != 'never') & (bar_df['Bar'] != 'less1')) & (bar_df['age_int'] > 25)]['Y'].value_counts(normalize=True))\n",
    "print(\"(Bar visited less than 1) and (age < 25):\")\n",
    "print(bar_df[((bar_df['Bar'] == 'never') | (bar_df['Bar'] == 'less1')) & (bar_df['age_int'] < 25)]['Y'].value_counts(normalize=True))"
   ]
  },
  {
   "cell_type": "code",
   "execution_count": null,
   "metadata": {},
   "outputs": [],
   "source": [
    "\"\"\"\n",
    "Looking at the data above, YES there is a major difference in the acceptance rate between the two categories.\n",
    "\"\"\""
   ]
  },
  {
   "cell_type": "markdown",
   "metadata": {},
   "source": [
    "5. Use the same process to compare the acceptance rate between drivers who go to bars more than once a month and had passengers that were not a kid and had occupations other than farming, fishing, or forestry. \n"
   ]
  },
  {
   "cell_type": "code",
   "execution_count": 82,
   "metadata": {},
   "outputs": [
    {
     "name": "stderr",
     "output_type": "stream",
     "text": [
      "/tmp/ipykernel_947119/1260323312.py:4: SettingWithCopyWarning: \n",
      "A value is trying to be set on a copy of a slice from a DataFrame.\n",
      "Try using .loc[row_indexer,col_indexer] = value instead\n",
      "\n",
      "See the caveats in the documentation: https://pandas.pydata.org/pandas-docs/stable/user_guide/indexing.html#returning-a-view-versus-a-copy\n",
      "  bar_df['q5_filter'] = np.where(\n"
     ]
    }
   ],
   "source": [
    "\"\"\"\n",
    "Since there are more filters to be done in this analysis, we will create a separate column to denote the filter.\n",
    "\"\"\"\n",
    "bar_df['q5_filter'] = np.where(\n",
    "                            (bar_df['Bar'] != 'never') & \n",
    "                            (bar_df['Bar'] != 'less1') &\n",
    "                            (bar_df['passanger'].isin(['Kid(s)', 'Alone']) == False) &\n",
    "                            (bar_df['occupation'].isin(['Farming', 'Fishing', 'Forestry']) == False), 1, 0)"
   ]
  },
  {
   "cell_type": "code",
   "execution_count": 85,
   "metadata": {},
   "outputs": [
    {
     "data": {
      "text/html": [
       "<div>\n",
       "<style scoped>\n",
       "    .dataframe tbody tr th:only-of-type {\n",
       "        vertical-align: middle;\n",
       "    }\n",
       "\n",
       "    .dataframe tbody tr th {\n",
       "        vertical-align: top;\n",
       "    }\n",
       "\n",
       "    .dataframe thead th {\n",
       "        text-align: right;\n",
       "    }\n",
       "</style>\n",
       "<table border=\"1\" class=\"dataframe\">\n",
       "  <thead>\n",
       "    <tr style=\"text-align: right;\">\n",
       "      <th></th>\n",
       "      <th>q5_filter</th>\n",
       "      <th>passanger</th>\n",
       "      <th>occupation</th>\n",
       "    </tr>\n",
       "  </thead>\n",
       "  <tbody>\n",
       "    <tr>\n",
       "      <th>9</th>\n",
       "      <td>0</td>\n",
       "      <td>Kid(s)</td>\n",
       "      <td>Unemployed</td>\n",
       "    </tr>\n",
       "    <tr>\n",
       "      <th>13</th>\n",
       "      <td>0</td>\n",
       "      <td>Alone</td>\n",
       "      <td>Unemployed</td>\n",
       "    </tr>\n",
       "    <tr>\n",
       "      <th>17</th>\n",
       "      <td>0</td>\n",
       "      <td>Alone</td>\n",
       "      <td>Unemployed</td>\n",
       "    </tr>\n",
       "    <tr>\n",
       "      <th>24</th>\n",
       "      <td>0</td>\n",
       "      <td>Friend(s)</td>\n",
       "      <td>Architecture &amp; Engineering</td>\n",
       "    </tr>\n",
       "    <tr>\n",
       "      <th>35</th>\n",
       "      <td>0</td>\n",
       "      <td>Alone</td>\n",
       "      <td>Architecture &amp; Engineering</td>\n",
       "    </tr>\n",
       "    <tr>\n",
       "      <th>...</th>\n",
       "      <td>...</td>\n",
       "      <td>...</td>\n",
       "      <td>...</td>\n",
       "    </tr>\n",
       "    <tr>\n",
       "      <th>12663</th>\n",
       "      <td>0</td>\n",
       "      <td>Friend(s)</td>\n",
       "      <td>Sales &amp; Related</td>\n",
       "    </tr>\n",
       "    <tr>\n",
       "      <th>12664</th>\n",
       "      <td>0</td>\n",
       "      <td>Friend(s)</td>\n",
       "      <td>Sales &amp; Related</td>\n",
       "    </tr>\n",
       "    <tr>\n",
       "      <th>12667</th>\n",
       "      <td>0</td>\n",
       "      <td>Alone</td>\n",
       "      <td>Sales &amp; Related</td>\n",
       "    </tr>\n",
       "    <tr>\n",
       "      <th>12670</th>\n",
       "      <td>0</td>\n",
       "      <td>Partner</td>\n",
       "      <td>Sales &amp; Related</td>\n",
       "    </tr>\n",
       "    <tr>\n",
       "      <th>12682</th>\n",
       "      <td>0</td>\n",
       "      <td>Alone</td>\n",
       "      <td>Sales &amp; Related</td>\n",
       "    </tr>\n",
       "  </tbody>\n",
       "</table>\n",
       "<p>1822 rows × 3 columns</p>\n",
       "</div>"
      ],
      "text/plain": [
       "       q5_filter  passanger                  occupation\n",
       "9              0     Kid(s)                  Unemployed\n",
       "13             0      Alone                  Unemployed\n",
       "17             0      Alone                  Unemployed\n",
       "24             0  Friend(s)  Architecture & Engineering\n",
       "35             0      Alone  Architecture & Engineering\n",
       "...          ...        ...                         ...\n",
       "12663          0  Friend(s)             Sales & Related\n",
       "12664          0  Friend(s)             Sales & Related\n",
       "12667          0      Alone             Sales & Related\n",
       "12670          0    Partner             Sales & Related\n",
       "12682          0      Alone             Sales & Related\n",
       "\n",
       "[1822 rows x 3 columns]"
      ]
     },
     "execution_count": 85,
     "metadata": {},
     "output_type": "execute_result"
    }
   ],
   "source": [
    "bar_df[bar_df['q5_filter'] == 0][['q5_filter', 'passanger', 'occupation']]"
   ]
  },
  {
   "cell_type": "code",
   "execution_count": 86,
   "metadata": {},
   "outputs": [
    {
     "name": "stdout",
     "output_type": "stream",
     "text": [
      "Bar visited > 1 & passanger not kid or alone & occupations not farming, fishing:\n",
      "1    0.717949\n",
      "0    0.282051\n",
      "Name: Y, dtype: float64\n",
      "All other cases:\n",
      "0    0.622942\n",
      "1    0.377058\n",
      "Name: Y, dtype: float64\n"
     ]
    }
   ],
   "source": [
    "print(\"Bar visited > 1 & passanger not kid or alone & occupations not farming, fishing, and forestry:\")\n",
    "print(bar_df[bar_df['q5_filter'] == 1][\"Y\"].value_counts(normalize=True))\n",
    "print(\"All other cases:\")\n",
    "print(bar_df[bar_df['q5_filter'] == 0][\"Y\"].value_counts(normalize=True))"
   ]
  },
  {
   "cell_type": "code",
   "execution_count": null,
   "metadata": {},
   "outputs": [],
   "source": [
    "\"\"\"\n",
    "Looking at the statistics above, there is a significant difference in acceptance rate between the two categories. \n",
    "If a person usually visited a bar more than once, and they weren't alone or had a kid with them, and their occupations \n",
    "included everything other than fishing, farming,and forestry, they were a lot MORE likely to accept the coupon.\n",
    "\"\"\""
   ]
  },
  {
   "cell_type": "markdown",
   "metadata": {},
   "source": [
    "6. Compare the acceptance rates between those drivers who:\n",
    "\n",
    "- go to bars more than once a month, had passengers that were not a kid, and were not widowed *OR*\n",
    "- go to bars more than once a month and are under the age of 30 *OR*\n",
    "- go to cheap restaurants more than 4 times a month and income is less than 50K. \n",
    "\n"
   ]
  },
  {
   "cell_type": "code",
   "execution_count": 87,
   "metadata": {},
   "outputs": [
    {
     "name": "stderr",
     "output_type": "stream",
     "text": [
      "/tmp/ipykernel_947119/2052586352.py:4: SettingWithCopyWarning: \n",
      "A value is trying to be set on a copy of a slice from a DataFrame.\n",
      "Try using .loc[row_indexer,col_indexer] = value instead\n",
      "\n",
      "See the caveats in the documentation: https://pandas.pydata.org/pandas-docs/stable/user_guide/indexing.html#returning-a-view-versus-a-copy\n",
      "  bar_df['income_edge'] = bar_df['income']\n",
      "/tmp/ipykernel_947119/2052586352.py:5: FutureWarning: The default value of regex will change from True to False in a future version.\n",
      "  bar_df['income_edge'] = bar_df['income_edge'].str.replace('Less than \\$12500', '0 - 12500')\n",
      "/tmp/ipykernel_947119/2052586352.py:5: SettingWithCopyWarning: \n",
      "A value is trying to be set on a copy of a slice from a DataFrame.\n",
      "Try using .loc[row_indexer,col_indexer] = value instead\n",
      "\n",
      "See the caveats in the documentation: https://pandas.pydata.org/pandas-docs/stable/user_guide/indexing.html#returning-a-view-versus-a-copy\n",
      "  bar_df['income_edge'] = bar_df['income_edge'].str.replace('Less than \\$12500', '0 - 12500')\n",
      "/tmp/ipykernel_947119/2052586352.py:6: FutureWarning: The default value of regex will change from True to False in a future version.\n",
      "  bar_df['income_edge'] = bar_df['income_edge'].str.replace('\\$100000 or More', '0 - 100001')\n",
      "/tmp/ipykernel_947119/2052586352.py:6: SettingWithCopyWarning: \n",
      "A value is trying to be set on a copy of a slice from a DataFrame.\n",
      "Try using .loc[row_indexer,col_indexer] = value instead\n",
      "\n",
      "See the caveats in the documentation: https://pandas.pydata.org/pandas-docs/stable/user_guide/indexing.html#returning-a-view-versus-a-copy\n",
      "  bar_df['income_edge'] = bar_df['income_edge'].str.replace('\\$100000 or More', '0 - 100001')\n",
      "/tmp/ipykernel_947119/2052586352.py:7: FutureWarning: The default value of regex will change from True to False in a future version.\n",
      "  bar_df['income_edge'] = bar_df['income_edge'].str.replace('\\$', '')\n",
      "/tmp/ipykernel_947119/2052586352.py:7: SettingWithCopyWarning: \n",
      "A value is trying to be set on a copy of a slice from a DataFrame.\n",
      "Try using .loc[row_indexer,col_indexer] = value instead\n",
      "\n",
      "See the caveats in the documentation: https://pandas.pydata.org/pandas-docs/stable/user_guide/indexing.html#returning-a-view-versus-a-copy\n",
      "  bar_df['income_edge'] = bar_df['income_edge'].str.replace('\\$', '')\n",
      "/tmp/ipykernel_947119/2052586352.py:8: SettingWithCopyWarning: \n",
      "A value is trying to be set on a copy of a slice from a DataFrame.\n",
      "Try using .loc[row_indexer,col_indexer] = value instead\n",
      "\n",
      "See the caveats in the documentation: https://pandas.pydata.org/pandas-docs/stable/user_guide/indexing.html#returning-a-view-versus-a-copy\n",
      "  bar_df['income_edge'] = bar_df['income_edge'].apply(lambda x: x.split(' - ')[1])\n",
      "/tmp/ipykernel_947119/2052586352.py:9: SettingWithCopyWarning: \n",
      "A value is trying to be set on a copy of a slice from a DataFrame.\n",
      "Try using .loc[row_indexer,col_indexer] = value instead\n",
      "\n",
      "See the caveats in the documentation: https://pandas.pydata.org/pandas-docs/stable/user_guide/indexing.html#returning-a-view-versus-a-copy\n",
      "  bar_df['income_edge'] = bar_df['income_edge'].astype(int)\n"
     ]
    }
   ],
   "source": [
    "\"\"\"\n",
    "In order to perform operations on the income column, we will convert the whole column to 'int'.\n",
    "We aim to extract the income edge from the categorical variable.\n",
    "\"\"\"\n",
    "bar_df['income_edge'] = bar_df['income']\n",
    "bar_df['income_edge'] = bar_df['income_edge'].str.replace('Less than \\$12500', '0 - 12500')\n",
    "bar_df['income_edge'] = bar_df['income_edge'].str.replace('\\$100000 or More', '0 - 100001')\n",
    "bar_df['income_edge'] = bar_df['income_edge'].str.replace('\\$', '')\n",
    "bar_df['income_edge'] = bar_df['income_edge'].apply(lambda x: x.split(' - ')[1])\n",
    "bar_df['income_edge'] = bar_df['income_edge'].astype(int)"
   ]
  },
  {
   "cell_type": "code",
   "execution_count": 88,
   "metadata": {},
   "outputs": [
    {
     "data": {
      "text/plain": [
       "37499     318\n",
       "100001    291\n",
       "24999     288\n",
       "49999     267\n",
       "62499     262\n",
       "12500     165\n",
       "87499     151\n",
       "99999     145\n",
       "74999     130\n",
       "Name: income_edge, dtype: int64"
      ]
     },
     "execution_count": 88,
     "metadata": {},
     "output_type": "execute_result"
    }
   ],
   "source": [
    "bar_df['income_edge'].value_counts()"
   ]
  },
  {
   "cell_type": "code",
   "execution_count": 91,
   "metadata": {},
   "outputs": [
    {
     "name": "stderr",
     "output_type": "stream",
     "text": [
      "/tmp/ipykernel_947119/2687136365.py:7: SettingWithCopyWarning: \n",
      "A value is trying to be set on a copy of a slice from a DataFrame.\n",
      "Try using .loc[row_indexer,col_indexer] = value instead\n",
      "\n",
      "See the caveats in the documentation: https://pandas.pydata.org/pandas-docs/stable/user_guide/indexing.html#returning-a-view-versus-a-copy\n",
      "  bar_df['q6_1_filter'] = np.where(\n",
      "/tmp/ipykernel_947119/2687136365.py:13: SettingWithCopyWarning: \n",
      "A value is trying to be set on a copy of a slice from a DataFrame.\n",
      "Try using .loc[row_indexer,col_indexer] = value instead\n",
      "\n",
      "See the caveats in the documentation: https://pandas.pydata.org/pandas-docs/stable/user_guide/indexing.html#returning-a-view-versus-a-copy\n",
      "  bar_df['q6_2_filter'] = np.where(\n",
      "/tmp/ipykernel_947119/2687136365.py:18: SettingWithCopyWarning: \n",
      "A value is trying to be set on a copy of a slice from a DataFrame.\n",
      "Try using .loc[row_indexer,col_indexer] = value instead\n",
      "\n",
      "See the caveats in the documentation: https://pandas.pydata.org/pandas-docs/stable/user_guide/indexing.html#returning-a-view-versus-a-copy\n",
      "  bar_df['q6_3_filter'] = np.where(\n"
     ]
    }
   ],
   "source": [
    "\"\"\"\n",
    "Again, we will follow the same pattern as above since there are a lot filters to account for. We will create another column\n",
    "to denote the filters\n",
    "\n",
    "Let's assign numbering to each of the filters above: 1 to 3, for naming sake.\n",
    "\"\"\"\n",
    "bar_df['q6_1_filter'] = np.where(\n",
    "                            (bar_df['Bar'] != 'never') & \n",
    "                            (bar_df['Bar'] != 'less1') &  \n",
    "                            (bar_df['passanger'].isin(['Kid(s)', 'Alone']) == False) &\n",
    "                            (bar_df['age_int']<30), 1, 0)\n",
    "    \n",
    "bar_df['q6_2_filter'] = np.where(\n",
    "                            (bar_df['Bar'] != 'never') & \n",
    "                            (bar_df['Bar'] != 'less1') &  \n",
    "                            (bar_df['age_int'] < 30), 1, 0)\n",
    "    \n",
    "bar_df['q6_3_filter'] = np.where(\n",
    "                            (bar_df['RestaurantLessThan20'].isin(['gt8', '4~8']) == True) &\n",
    "                            (bar_df['income_edge'] < 50000), 1, 0)"
   ]
  },
  {
   "cell_type": "markdown",
   "metadata": {},
   "source": [
    "7.  Based on these observations, what do you hypothesize about drivers who accepted the bar coupons?"
   ]
  },
  {
   "cell_type": "code",
   "execution_count": 94,
   "metadata": {},
   "outputs": [
    {
     "name": "stdout",
     "output_type": "stream",
     "text": [
      "1    0.77193\n",
      "0    0.22807\n",
      "Name: Y, dtype: float64\n",
      "1    0.721739\n",
      "0    0.278261\n",
      "Name: Y, dtype: float64\n",
      "0    0.546512\n",
      "1    0.453488\n",
      "Name: Y, dtype: float64\n"
     ]
    }
   ],
   "source": [
    "print(bar_df[bar_df['q6_1_filter'] == 1]['Y'].value_counts(normalize=True))\n",
    "print(bar_df[bar_df['q6_2_filter'] == 1]['Y'].value_counts(normalize=True))\n",
    "print(bar_df[bar_df['q6_3_filter'] == 1]['Y'].value_counts(normalize=True))"
   ]
  },
  {
   "cell_type": "code",
   "execution_count": null,
   "metadata": {},
   "outputs": [],
   "source": [
    "\"\"\"\n",
    "Based on the statistics above we can make a few observations:\n",
    "1. Having kids in the car does in fact bring the acceptance rate down.\n",
    "2. Lower income drivers have a slightly more chance of rejecting the coupon.\n",
    "\n",
    "Looking at all the observations above, we can make the following hypothesis.\n",
    "Drivers with high income, high previous visits to bars, age greater than 25, and no kids as a passanger will be MORE likely \n",
    "to accept the coupon.\n",
    "\"\"\""
   ]
  },
  {
   "cell_type": "markdown",
   "metadata": {},
   "source": [
    "### Independent Investigation\n",
    "\n",
    "Using the bar coupon example as motivation, you are to explore one of the other coupon groups and try to determine the characteristics of passengers who accept the coupons.  "
   ]
  },
  {
   "cell_type": "code",
   "execution_count": null,
   "metadata": {},
   "outputs": [],
   "source": [
    "\"\"\"\n",
    "For this portion, let's take a more general viewpoint: \n",
    "What is the marital status of the drivers that accept the coupons the most?\n",
    "\"\"\""
   ]
  },
  {
   "cell_type": "code",
   "execution_count": 97,
   "metadata": {},
   "outputs": [
    {
     "data": {
      "image/png": "[encoded data removed]",
      "text/plain": [
       "<Figure size 432x288 with 1 Axes>"
      ]
     },
     "metadata": {
      "needs_background": "light"
     },
     "output_type": "display_data"
    }
   ],
   "source": [
    "\"\"\"\n",
    "Let's begin by visually laying out the differences of acceptance per marital status\n",
    "\"\"\"\n",
    "sns.histplot(data, x='maritalStatus', hue='Y', legend=True)\n",
    "plt.xticks(rotation=45)\n",
    "plt.show()"
   ]
  },
  {
   "cell_type": "code",
   "execution_count": 103,
   "metadata": {},
   "outputs": [
    {
     "name": "stdout",
     "output_type": "stream",
     "text": [
      "Married Partner 1    0.542941\n",
      "0    0.457059\n",
      "Name: Y, dtype: float64\n",
      "Single 1    0.60585\n",
      "0    0.39415\n",
      "Name: Y, dtype: float64\n",
      "Unmarried partner 1    0.561299\n",
      "0    0.438701\n",
      "Name: Y, dtype: float64\n",
      "Divorced 1    0.52907\n",
      "0    0.47093\n",
      "Name: Y, dtype: float64\n",
      "Widowed 0    0.523077\n",
      "1    0.476923\n",
      "Name: Y, dtype: float64\n"
     ]
    }
   ],
   "source": [
    "\"\"\"\n",
    "Then let's take a look at the actual numbers per status.\n",
    "We need to make sure to look at the NORMALIZED numbers since there are different value counts for each status.\n",
    "\"\"\"\n",
    "print('Married Partner', data[data['maritalStatus'] == 'Married partner']['Y'].value_counts(normalize=True))\n",
    "print('Single', data[data['maritalStatus'] == 'Single']['Y'].value_counts(normalize=True))\n",
    "print('Unmarried partner', data[data['maritalStatus'] == 'Unmarried partner']['Y'].value_counts(normalize=True))\n",
    "print('Divorced', data[data['maritalStatus'] == 'Divorced']['Y'].value_counts(normalize=True))\n",
    "print('Widowed', data[data['maritalStatus'] == 'Widowed']['Y'].value_counts(normalize=True))"
   ]
  },
  {
   "cell_type": "code",
   "execution_count": 107,
   "metadata": {},
   "outputs": [],
   "source": [
    "\"\"\"\n",
    "Let's find the differences in all categories --> (acceptance - rejection)\n",
    "First separate them into variables so it is easier to perform operations\n",
    "\"\"\"\n",
    "married = data[data['maritalStatus'] == 'Married partner']['Y'].value_counts(normalize=True)\n",
    "single = data[data['maritalStatus'] == 'Single']['Y'].value_counts(normalize=True)\n",
    "unmarried = data[data['maritalStatus'] == 'Unmarried partner']['Y'].value_counts(normalize=True)\n",
    "divorced = data[data['maritalStatus'] == 'Divorced']['Y'].value_counts(normalize=True)\n",
    "widowed = data[data['maritalStatus'] == 'Widowed']['Y'].value_counts(normalize=True)"
   ]
  },
  {
   "cell_type": "code",
   "execution_count": 109,
   "metadata": {},
   "outputs": [
    {
     "name": "stdout",
     "output_type": "stream",
     "text": [
      "Married Difference 0.08588235294117652\n",
      "Single Difference 0.21170033670033672\n",
      "Unmarried Difference 0.12259835315645012\n",
      "Divorced Difference 0.05813953488372098\n",
      "Widowed Difference -0.046153846153846156\n"
     ]
    }
   ],
   "source": [
    "print('Married Difference', married[1] - married[0])\n",
    "print('Single Difference', single[1] - single[0])\n",
    "print('Unmarried Difference', unmarried[1] - unmarried[0])\n",
    "print('Divorced Difference', divorced[1] - divorced[0])\n",
    "print('Widowed Difference', widowed[1] - widowed[0])"
   ]
  },
  {
   "cell_type": "code",
   "execution_count": null,
   "metadata": {},
   "outputs": [],
   "source": [
    "\"\"\"\n",
    "CONCLUSION:\n",
    "As we can clearly see above, single people are much more likely to accept the coupon than any other marital status.\n",
    "\"\"\""
   ]
  }
 ],
 "metadata": {
  "kernelspec": {
   "display_name": "Python 3 (ipykernel)",
   "language": "python",
   "name": "python3"
  },
  "language_info": {
   "codemirror_mode": {
    "name": "ipython",
    "version": 3
   },
   "file_extension": ".py",
   "mimetype": "text/x-python",
   "name": "python",
   "nbconvert_exporter": "python",
   "pygments_lexer": "ipython3",
   "version": "3.10.6"
  },
  "widgets": {
   "application/vnd.jupyter.widget-state+json": {
    "state": {},
    "version_major": 2,
    "version_minor": 0
   }
  }
 },
 "nbformat": 4,
 "nbformat_minor": 4
}
